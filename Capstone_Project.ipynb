{
    "cells": [
        {
            "metadata": {
                "collapsed": true
            },
            "cell_type": "markdown",
            "source": "<h1 align=\"center\"><font size=\"5\">Capstone Project</font></h1>"
        },
        {
            "metadata": {},
            "cell_type": "markdown",
            "source": "### Prediction of Road Accident Severity in Rainy Weather\nThe goal of this project is to predict the severity of road accidents in rainy weather due to various conditions. This will help the community to stay safe and avoid damage or loss due to accidents in rainy weather. This will also help the Road Safety team to take necessary precautions."
        },
        {
            "metadata": {},
            "cell_type": "code",
            "source": "import pandas as pd\nimport numpy as np\nimport matplotlib.pyplot as plt\nimport warnings\nwarnings.filterwarnings('ignore') ",
            "execution_count": 3,
            "outputs": []
        },
        {
            "metadata": {},
            "cell_type": "code",
            "source": "print('Hello Capstone Project Course!')",
            "execution_count": 4,
            "outputs": [
                {
                    "output_type": "stream",
                    "text": "Hello Capstone Project Course!\n",
                    "name": "stdout"
                }
            ]
        },
        {
            "metadata": {},
            "cell_type": "markdown",
            "source": "### Data Understanding\nBy analysing the raw data, the following conclusion can be done.\n1. Severity code is the target parameter or predictor variable which as it shows the severity of the accidents.\n2. Data clean up is required as few columns are not required for analysis.\n3. Since the goal is to get predictions for rainy weather, only rows corresponding to \u2018Rainy\u2019 Weather can be used.\n4. ROADCOND and LIGHTCOND are different categories that can be derived from the Weather column.\n5. Convert raw unbalanced data to balanced dataset."
        },
        {
            "metadata": {},
            "cell_type": "code",
            "source": "#download csv file containing data\n!wget -O data_collisions.csv https://s3.us.cloud-object-storage.appdomain.cloud/cf-courses-data/CognitiveClass/DP0701EN/version-2/Data-Collisions.csv",
            "execution_count": 5,
            "outputs": [
                {
                    "output_type": "stream",
                    "text": "--2020-09-02 08:24:25--  https://s3.us.cloud-object-storage.appdomain.cloud/cf-courses-data/CognitiveClass/DP0701EN/version-2/Data-Collisions.csv\nResolving s3.us.cloud-object-storage.appdomain.cloud (s3.us.cloud-object-storage.appdomain.cloud)... 67.228.254.196\nConnecting to s3.us.cloud-object-storage.appdomain.cloud (s3.us.cloud-object-storage.appdomain.cloud)|67.228.254.196|:443... connected.\nHTTP request sent, awaiting response... 200 OK\nLength: 73917638 (70M) [text/csv]\nSaving to: \u2018data_collisions.csv\u2019\n\n100%[======================================>] 73,917,638  36.2MB/s   in 1.9s   \n\n2020-09-02 08:24:28 (36.2 MB/s) - \u2018data_collisions.csv\u2019 saved [73917638/73917638]\n\n",
                    "name": "stdout"
                }
            ]
        },
        {
            "metadata": {},
            "cell_type": "code",
            "source": "#create a dataframe using csv file\ndf = pd.read_csv('data_collisions.csv')\ndf.head()",
            "execution_count": 6,
            "outputs": [
                {
                    "output_type": "execute_result",
                    "execution_count": 6,
                    "data": {
                        "text/plain": "   SEVERITYCODE           X          Y  OBJECTID  INCKEY  COLDETKEY REPORTNO  \\\n0             2 -122.323148  47.703140         1    1307       1307  3502005   \n1             1 -122.347294  47.647172         2   52200      52200  2607959   \n2             1 -122.334540  47.607871         3   26700      26700  1482393   \n3             1 -122.334803  47.604803         4    1144       1144  3503937   \n4             2 -122.306426  47.545739         5   17700      17700  1807429   \n\n    STATUS      ADDRTYPE   INTKEY  ... ROADCOND                LIGHTCOND  \\\n0  Matched  Intersection  37475.0  ...      Wet                 Daylight   \n1  Matched         Block      NaN  ...      Wet  Dark - Street Lights On   \n2  Matched         Block      NaN  ...      Dry                 Daylight   \n3  Matched         Block      NaN  ...      Dry                 Daylight   \n4  Matched  Intersection  34387.0  ...      Wet                 Daylight   \n\n  PEDROWNOTGRNT  SDOTCOLNUM SPEEDING ST_COLCODE  \\\n0           NaN         NaN      NaN         10   \n1           NaN   6354039.0      NaN         11   \n2           NaN   4323031.0      NaN         32   \n3           NaN         NaN      NaN         23   \n4           NaN   4028032.0      NaN         10   \n\n                                          ST_COLDESC  SEGLANEKEY  \\\n0                                  Entering at angle           0   \n1  From same direction - both going straight - bo...           0   \n2                             One parked--one moving           0   \n3                   From same direction - all others           0   \n4                                  Entering at angle           0   \n\n   CROSSWALKKEY  HITPARKEDCAR  \n0             0             N  \n1             0             N  \n2             0             N  \n3             0             N  \n4             0             N  \n\n[5 rows x 38 columns]",
                        "text/html": "<div>\n<style scoped>\n    .dataframe tbody tr th:only-of-type {\n        vertical-align: middle;\n    }\n\n    .dataframe tbody tr th {\n        vertical-align: top;\n    }\n\n    .dataframe thead th {\n        text-align: right;\n    }\n</style>\n<table border=\"1\" class=\"dataframe\">\n  <thead>\n    <tr style=\"text-align: right;\">\n      <th></th>\n      <th>SEVERITYCODE</th>\n      <th>X</th>\n      <th>Y</th>\n      <th>OBJECTID</th>\n      <th>INCKEY</th>\n      <th>COLDETKEY</th>\n      <th>REPORTNO</th>\n      <th>STATUS</th>\n      <th>ADDRTYPE</th>\n      <th>INTKEY</th>\n      <th>...</th>\n      <th>ROADCOND</th>\n      <th>LIGHTCOND</th>\n      <th>PEDROWNOTGRNT</th>\n      <th>SDOTCOLNUM</th>\n      <th>SPEEDING</th>\n      <th>ST_COLCODE</th>\n      <th>ST_COLDESC</th>\n      <th>SEGLANEKEY</th>\n      <th>CROSSWALKKEY</th>\n      <th>HITPARKEDCAR</th>\n    </tr>\n  </thead>\n  <tbody>\n    <tr>\n      <th>0</th>\n      <td>2</td>\n      <td>-122.323148</td>\n      <td>47.703140</td>\n      <td>1</td>\n      <td>1307</td>\n      <td>1307</td>\n      <td>3502005</td>\n      <td>Matched</td>\n      <td>Intersection</td>\n      <td>37475.0</td>\n      <td>...</td>\n      <td>Wet</td>\n      <td>Daylight</td>\n      <td>NaN</td>\n      <td>NaN</td>\n      <td>NaN</td>\n      <td>10</td>\n      <td>Entering at angle</td>\n      <td>0</td>\n      <td>0</td>\n      <td>N</td>\n    </tr>\n    <tr>\n      <th>1</th>\n      <td>1</td>\n      <td>-122.347294</td>\n      <td>47.647172</td>\n      <td>2</td>\n      <td>52200</td>\n      <td>52200</td>\n      <td>2607959</td>\n      <td>Matched</td>\n      <td>Block</td>\n      <td>NaN</td>\n      <td>...</td>\n      <td>Wet</td>\n      <td>Dark - Street Lights On</td>\n      <td>NaN</td>\n      <td>6354039.0</td>\n      <td>NaN</td>\n      <td>11</td>\n      <td>From same direction - both going straight - bo...</td>\n      <td>0</td>\n      <td>0</td>\n      <td>N</td>\n    </tr>\n    <tr>\n      <th>2</th>\n      <td>1</td>\n      <td>-122.334540</td>\n      <td>47.607871</td>\n      <td>3</td>\n      <td>26700</td>\n      <td>26700</td>\n      <td>1482393</td>\n      <td>Matched</td>\n      <td>Block</td>\n      <td>NaN</td>\n      <td>...</td>\n      <td>Dry</td>\n      <td>Daylight</td>\n      <td>NaN</td>\n      <td>4323031.0</td>\n      <td>NaN</td>\n      <td>32</td>\n      <td>One parked--one moving</td>\n      <td>0</td>\n      <td>0</td>\n      <td>N</td>\n    </tr>\n    <tr>\n      <th>3</th>\n      <td>1</td>\n      <td>-122.334803</td>\n      <td>47.604803</td>\n      <td>4</td>\n      <td>1144</td>\n      <td>1144</td>\n      <td>3503937</td>\n      <td>Matched</td>\n      <td>Block</td>\n      <td>NaN</td>\n      <td>...</td>\n      <td>Dry</td>\n      <td>Daylight</td>\n      <td>NaN</td>\n      <td>NaN</td>\n      <td>NaN</td>\n      <td>23</td>\n      <td>From same direction - all others</td>\n      <td>0</td>\n      <td>0</td>\n      <td>N</td>\n    </tr>\n    <tr>\n      <th>4</th>\n      <td>2</td>\n      <td>-122.306426</td>\n      <td>47.545739</td>\n      <td>5</td>\n      <td>17700</td>\n      <td>17700</td>\n      <td>1807429</td>\n      <td>Matched</td>\n      <td>Intersection</td>\n      <td>34387.0</td>\n      <td>...</td>\n      <td>Wet</td>\n      <td>Daylight</td>\n      <td>NaN</td>\n      <td>4028032.0</td>\n      <td>NaN</td>\n      <td>10</td>\n      <td>Entering at angle</td>\n      <td>0</td>\n      <td>0</td>\n      <td>N</td>\n    </tr>\n  </tbody>\n</table>\n<p>5 rows \u00d7 38 columns</p>\n</div>"
                    },
                    "metadata": {}
                }
            ]
        },
        {
            "metadata": {},
            "cell_type": "code",
            "source": "#Plotting weather data vs total number of cases\nplot_df = df.groupby([\"WEATHER\"]).count().sort_values([\"SEVERITYCODE\"],ascending=False).rename(columns={\"SEVERITYCODE\" : \"Total Cases\"}).reset_index()\nplot_df.head()",
            "execution_count": 7,
            "outputs": [
                {
                    "output_type": "execute_result",
                    "execution_count": 7,
                    "data": {
                        "text/plain": "    WEATHER  Total Cases       X       Y  OBJECTID  INCKEY  COLDETKEY  \\\n0     Clear       111135  108959  108959    111135  111135     111135   \n1   Raining        33145   32015   32015     33145   33145      33145   \n2  Overcast        27714   27136   27136     27714   27714      27714   \n3   Unknown        15091   13893   13893     15091   15091      15091   \n4   Snowing          907     894     894       907     907        907   \n\n   REPORTNO  STATUS  ADDRTYPE  ...  ROADCOND  LIGHTCOND  PEDROWNOTGRNT  \\\n0    111135  111135    110626  ...    111116     111027           2820   \n1     33145   33145     33004  ...     33141      33121           1002   \n2     27714   27714     27584  ...     27702      27693            680   \n3     15091   15091     14107  ...     15080      15046            124   \n4       907     907       902  ...       907        901             10   \n\n   SDOTCOLNUM  SPEEDING  ST_COLCODE  ST_COLDESC  SEGLANEKEY  CROSSWALKKEY  \\\n0       65582      4111      111130      111129      111135        111135   \n1       20472      3280       33138       33138       33145         33145   \n2       17347      1557       27708       27708       27714         27714   \n3        9824        98       15091       15089       15091         15091   \n4         621       185         907         907         907           907   \n\n   HITPARKEDCAR  \n0        111135  \n1         33145  \n2         27714  \n3         15091  \n4           907  \n\n[5 rows x 38 columns]",
                        "text/html": "<div>\n<style scoped>\n    .dataframe tbody tr th:only-of-type {\n        vertical-align: middle;\n    }\n\n    .dataframe tbody tr th {\n        vertical-align: top;\n    }\n\n    .dataframe thead th {\n        text-align: right;\n    }\n</style>\n<table border=\"1\" class=\"dataframe\">\n  <thead>\n    <tr style=\"text-align: right;\">\n      <th></th>\n      <th>WEATHER</th>\n      <th>Total Cases</th>\n      <th>X</th>\n      <th>Y</th>\n      <th>OBJECTID</th>\n      <th>INCKEY</th>\n      <th>COLDETKEY</th>\n      <th>REPORTNO</th>\n      <th>STATUS</th>\n      <th>ADDRTYPE</th>\n      <th>...</th>\n      <th>ROADCOND</th>\n      <th>LIGHTCOND</th>\n      <th>PEDROWNOTGRNT</th>\n      <th>SDOTCOLNUM</th>\n      <th>SPEEDING</th>\n      <th>ST_COLCODE</th>\n      <th>ST_COLDESC</th>\n      <th>SEGLANEKEY</th>\n      <th>CROSSWALKKEY</th>\n      <th>HITPARKEDCAR</th>\n    </tr>\n  </thead>\n  <tbody>\n    <tr>\n      <th>0</th>\n      <td>Clear</td>\n      <td>111135</td>\n      <td>108959</td>\n      <td>108959</td>\n      <td>111135</td>\n      <td>111135</td>\n      <td>111135</td>\n      <td>111135</td>\n      <td>111135</td>\n      <td>110626</td>\n      <td>...</td>\n      <td>111116</td>\n      <td>111027</td>\n      <td>2820</td>\n      <td>65582</td>\n      <td>4111</td>\n      <td>111130</td>\n      <td>111129</td>\n      <td>111135</td>\n      <td>111135</td>\n      <td>111135</td>\n    </tr>\n    <tr>\n      <th>1</th>\n      <td>Raining</td>\n      <td>33145</td>\n      <td>32015</td>\n      <td>32015</td>\n      <td>33145</td>\n      <td>33145</td>\n      <td>33145</td>\n      <td>33145</td>\n      <td>33145</td>\n      <td>33004</td>\n      <td>...</td>\n      <td>33141</td>\n      <td>33121</td>\n      <td>1002</td>\n      <td>20472</td>\n      <td>3280</td>\n      <td>33138</td>\n      <td>33138</td>\n      <td>33145</td>\n      <td>33145</td>\n      <td>33145</td>\n    </tr>\n    <tr>\n      <th>2</th>\n      <td>Overcast</td>\n      <td>27714</td>\n      <td>27136</td>\n      <td>27136</td>\n      <td>27714</td>\n      <td>27714</td>\n      <td>27714</td>\n      <td>27714</td>\n      <td>27714</td>\n      <td>27584</td>\n      <td>...</td>\n      <td>27702</td>\n      <td>27693</td>\n      <td>680</td>\n      <td>17347</td>\n      <td>1557</td>\n      <td>27708</td>\n      <td>27708</td>\n      <td>27714</td>\n      <td>27714</td>\n      <td>27714</td>\n    </tr>\n    <tr>\n      <th>3</th>\n      <td>Unknown</td>\n      <td>15091</td>\n      <td>13893</td>\n      <td>13893</td>\n      <td>15091</td>\n      <td>15091</td>\n      <td>15091</td>\n      <td>15091</td>\n      <td>15091</td>\n      <td>14107</td>\n      <td>...</td>\n      <td>15080</td>\n      <td>15046</td>\n      <td>124</td>\n      <td>9824</td>\n      <td>98</td>\n      <td>15091</td>\n      <td>15089</td>\n      <td>15091</td>\n      <td>15091</td>\n      <td>15091</td>\n    </tr>\n    <tr>\n      <th>4</th>\n      <td>Snowing</td>\n      <td>907</td>\n      <td>894</td>\n      <td>894</td>\n      <td>907</td>\n      <td>907</td>\n      <td>907</td>\n      <td>907</td>\n      <td>907</td>\n      <td>902</td>\n      <td>...</td>\n      <td>907</td>\n      <td>901</td>\n      <td>10</td>\n      <td>621</td>\n      <td>185</td>\n      <td>907</td>\n      <td>907</td>\n      <td>907</td>\n      <td>907</td>\n      <td>907</td>\n    </tr>\n  </tbody>\n</table>\n<p>5 rows \u00d7 38 columns</p>\n</div>"
                    },
                    "metadata": {}
                }
            ]
        },
        {
            "metadata": {},
            "cell_type": "code",
            "source": "plot_df.plot.bar(x='WEATHER', y='Total Cases', rot=45)",
            "execution_count": 8,
            "outputs": [
                {
                    "output_type": "execute_result",
                    "execution_count": 8,
                    "data": {
                        "text/plain": "<matplotlib.axes._subplots.AxesSubplot at 0x7fa523ceda90>"
                    },
                    "metadata": {}
                },
                {
                    "output_type": "display_data",
                    "data": {
                        "text/plain": "<Figure size 432x288 with 1 Axes>",
                        "image/png": "[encoded data removed]"
                    },
                    "metadata": {
                        "needs_background": "light"
                    }
                }
            ]
        },
        {
            "metadata": {},
            "cell_type": "code",
            "source": "#check severity value counts of initial data\ndf['SEVERITYCODE'].value_counts()",
            "execution_count": 9,
            "outputs": [
                {
                    "output_type": "execute_result",
                    "execution_count": 9,
                    "data": {
                        "text/plain": "1    136485\n2     58188\nName: SEVERITYCODE, dtype: int64"
                    },
                    "metadata": {}
                }
            ]
        },
        {
            "metadata": {},
            "cell_type": "code",
            "source": "# Clean up data by dropping unwanted columns\ndataset = df.drop(columns = ['X', 'Y', 'OBJECTID', 'INCKEY', 'COLDETKEY',\n       'REPORTNO', 'STATUS', 'ADDRTYPE', 'INTKEY', 'LOCATION',\n       'EXCEPTRSNCODE', 'EXCEPTRSNDESC', 'SEVERITYCODE.1', 'SEVERITYDESC',\n       'COLLISIONTYPE', 'PERSONCOUNT', 'PEDCOUNT', 'PEDCYLCOUNT',\n       'VEHCOUNT', 'INCDATE', 'INCDTTM', 'JUNCTIONTYPE', 'SDOT_COLCODE',\n       'SDOT_COLDESC', 'INATTENTIONIND', 'UNDERINFL', 'PEDROWNOTGRNT', 'SDOTCOLNUM', 'SPEEDING',\n       'ST_COLCODE', 'ST_COLDESC', 'SEGLANEKEY', 'CROSSWALKKEY',\n       'HITPARKEDCAR'])\ndataset.shape",
            "execution_count": 10,
            "outputs": [
                {
                    "output_type": "execute_result",
                    "execution_count": 10,
                    "data": {
                        "text/plain": "(194673, 4)"
                    },
                    "metadata": {}
                }
            ]
        },
        {
            "metadata": {},
            "cell_type": "code",
            "source": "#Extract rows corresponding to rainy weather\nrain_data = dataset[(dataset['WEATHER'] == 'Raining')].copy()\nrain_data.head()",
            "execution_count": 11,
            "outputs": [
                {
                    "output_type": "execute_result",
                    "execution_count": 11,
                    "data": {
                        "text/plain": "    SEVERITYCODE  WEATHER ROADCOND                LIGHTCOND\n1              1  Raining      Wet  Dark - Street Lights On\n4              2  Raining      Wet                 Daylight\n6              1  Raining      Wet                 Daylight\n12             1  Raining      Wet  Dark - Street Lights On\n13             1  Raining      Wet  Dark - No Street Lights",
                        "text/html": "<div>\n<style scoped>\n    .dataframe tbody tr th:only-of-type {\n        vertical-align: middle;\n    }\n\n    .dataframe tbody tr th {\n        vertical-align: top;\n    }\n\n    .dataframe thead th {\n        text-align: right;\n    }\n</style>\n<table border=\"1\" class=\"dataframe\">\n  <thead>\n    <tr style=\"text-align: right;\">\n      <th></th>\n      <th>SEVERITYCODE</th>\n      <th>WEATHER</th>\n      <th>ROADCOND</th>\n      <th>LIGHTCOND</th>\n    </tr>\n  </thead>\n  <tbody>\n    <tr>\n      <th>1</th>\n      <td>1</td>\n      <td>Raining</td>\n      <td>Wet</td>\n      <td>Dark - Street Lights On</td>\n    </tr>\n    <tr>\n      <th>4</th>\n      <td>2</td>\n      <td>Raining</td>\n      <td>Wet</td>\n      <td>Daylight</td>\n    </tr>\n    <tr>\n      <th>6</th>\n      <td>1</td>\n      <td>Raining</td>\n      <td>Wet</td>\n      <td>Daylight</td>\n    </tr>\n    <tr>\n      <th>12</th>\n      <td>1</td>\n      <td>Raining</td>\n      <td>Wet</td>\n      <td>Dark - Street Lights On</td>\n    </tr>\n    <tr>\n      <th>13</th>\n      <td>1</td>\n      <td>Raining</td>\n      <td>Wet</td>\n      <td>Dark - No Street Lights</td>\n    </tr>\n  </tbody>\n</table>\n</div>"
                    },
                    "metadata": {}
                }
            ]
        },
        {
            "metadata": {},
            "cell_type": "code",
            "source": "#Print count of rows with severity code 1 and 2\nrain_data['SEVERITYCODE'].value_counts()",
            "execution_count": 12,
            "outputs": [
                {
                    "output_type": "execute_result",
                    "execution_count": 12,
                    "data": {
                        "text/plain": "1    21969\n2    11176\nName: SEVERITYCODE, dtype: int64"
                    },
                    "metadata": {}
                }
            ]
        },
        {
            "metadata": {},
            "cell_type": "code",
            "source": "#Plot Raw unbalanced data\nseverity_unbalanced = rain_data['SEVERITYCODE'].value_counts().plot(kind='bar',title=\"Severity Data availability\")",
            "execution_count": 13,
            "outputs": [
                {
                    "output_type": "display_data",
                    "data": {
                        "text/plain": "<Figure size 432x288 with 1 Axes>",
                        "image/png": "[encoded data removed]"
                    },
                    "metadata": {
                        "needs_background": "light"
                    }
                }
            ]
        },
        {
            "metadata": {},
            "cell_type": "code",
            "source": "#Convert column with string values to category\nrain_data[\"WEATHER\"] = rain_data[\"WEATHER\"].astype('category')\nrain_data[\"ROADCOND\"] = rain_data[\"ROADCOND\"].astype('category')\nrain_data[\"LIGHTCOND\"] = rain_data[\"LIGHTCOND\"].astype('category')\n\n#Create columns with category codes\nrain_data['CATEGORY_WEATHER'] = rain_data['WEATHER'].astype('category').cat.codes\nrain_data['CATEGORY_ROADCOND'] = rain_data['ROADCOND'].astype('category').cat.codes\nrain_data['CATEGORY_LIGHTCOND'] = rain_data['LIGHTCOND'].astype('category').cat.codes\nrain_data.reset_index().head()",
            "execution_count": 14,
            "outputs": [
                {
                    "output_type": "execute_result",
                    "execution_count": 14,
                    "data": {
                        "text/plain": "   index  SEVERITYCODE  WEATHER ROADCOND                LIGHTCOND  \\\n0      1             1  Raining      Wet  Dark - Street Lights On   \n1      4             2  Raining      Wet                 Daylight   \n2      6             1  Raining      Wet                 Daylight   \n3     12             1  Raining      Wet  Dark - Street Lights On   \n4     13             1  Raining      Wet  Dark - No Street Lights   \n\n   CATEGORY_WEATHER  CATEGORY_ROADCOND  CATEGORY_LIGHTCOND  \n0                 0                  8                   2  \n1                 0                  8                   5  \n2                 0                  8                   5  \n3                 0                  8                   2  \n4                 0                  8                   0  ",
                        "text/html": "<div>\n<style scoped>\n    .dataframe tbody tr th:only-of-type {\n        vertical-align: middle;\n    }\n\n    .dataframe tbody tr th {\n        vertical-align: top;\n    }\n\n    .dataframe thead th {\n        text-align: right;\n    }\n</style>\n<table border=\"1\" class=\"dataframe\">\n  <thead>\n    <tr style=\"text-align: right;\">\n      <th></th>\n      <th>index</th>\n      <th>SEVERITYCODE</th>\n      <th>WEATHER</th>\n      <th>ROADCOND</th>\n      <th>LIGHTCOND</th>\n      <th>CATEGORY_WEATHER</th>\n      <th>CATEGORY_ROADCOND</th>\n      <th>CATEGORY_LIGHTCOND</th>\n    </tr>\n  </thead>\n  <tbody>\n    <tr>\n      <th>0</th>\n      <td>1</td>\n      <td>1</td>\n      <td>Raining</td>\n      <td>Wet</td>\n      <td>Dark - Street Lights On</td>\n      <td>0</td>\n      <td>8</td>\n      <td>2</td>\n    </tr>\n    <tr>\n      <th>1</th>\n      <td>4</td>\n      <td>2</td>\n      <td>Raining</td>\n      <td>Wet</td>\n      <td>Daylight</td>\n      <td>0</td>\n      <td>8</td>\n      <td>5</td>\n    </tr>\n    <tr>\n      <th>2</th>\n      <td>6</td>\n      <td>1</td>\n      <td>Raining</td>\n      <td>Wet</td>\n      <td>Daylight</td>\n      <td>0</td>\n      <td>8</td>\n      <td>5</td>\n    </tr>\n    <tr>\n      <th>3</th>\n      <td>12</td>\n      <td>1</td>\n      <td>Raining</td>\n      <td>Wet</td>\n      <td>Dark - Street Lights On</td>\n      <td>0</td>\n      <td>8</td>\n      <td>2</td>\n    </tr>\n    <tr>\n      <th>4</th>\n      <td>13</td>\n      <td>1</td>\n      <td>Raining</td>\n      <td>Wet</td>\n      <td>Dark - No Street Lights</td>\n      <td>0</td>\n      <td>8</td>\n      <td>0</td>\n    </tr>\n  </tbody>\n</table>\n</div>"
                    },
                    "metadata": {}
                }
            ]
        },
        {
            "metadata": {},
            "cell_type": "code",
            "source": "from sklearn.utils import resample\n#Majority class downsampling\nrain_data_adjusted = resample(rain_data[rain_data.SEVERITYCODE==1],replace=False,\n                              n_samples=11176,random_state=123)\n# combining downsampled majority class with minority class\nrain_data_balanced = pd.concat([rain_data_adjusted, rain_data[rain_data.SEVERITYCODE==2]])\nrain_data_balanced.SEVERITYCODE.value_counts()",
            "execution_count": 15,
            "outputs": [
                {
                    "output_type": "execute_result",
                    "execution_count": 15,
                    "data": {
                        "text/plain": "2    11176\n1    11176\nName: SEVERITYCODE, dtype: int64"
                    },
                    "metadata": {}
                }
            ]
        },
        {
            "metadata": {},
            "cell_type": "code",
            "source": "#Print count of rows with severity code 1 and 2 after downsampling\nrain_data_balanced.SEVERITYCODE.value_counts()",
            "execution_count": 16,
            "outputs": [
                {
                    "output_type": "execute_result",
                    "execution_count": 16,
                    "data": {
                        "text/plain": "2    11176\n1    11176\nName: SEVERITYCODE, dtype: int64"
                    },
                    "metadata": {}
                }
            ]
        },
        {
            "metadata": {},
            "cell_type": "code",
            "source": "#Plot balanced data\nseverity_balanced = rain_data_balanced['SEVERITYCODE'].value_counts().plot(kind='bar',title=\"Severity Data availability\")",
            "execution_count": 17,
            "outputs": [
                {
                    "output_type": "display_data",
                    "data": {
                        "text/plain": "<Figure size 432x288 with 1 Axes>",
                        "image/png": "[encoded data removed]"
                    },
                    "metadata": {
                        "needs_background": "light"
                    }
                }
            ]
        },
        {
            "metadata": {},
            "cell_type": "code",
            "source": "#define X\nimport numpy as np\nX=np.asarray(rain_data_balanced[['CATEGORY_ROADCOND','CATEGORY_LIGHTCOND']])\nX[0:5]",
            "execution_count": 47,
            "outputs": [
                {
                    "output_type": "execute_result",
                    "execution_count": 47,
                    "data": {
                        "text/plain": "array([[8, 2],\n       [8, 5],\n       [8, 5],\n       [8, 6],\n       [8, 5]], dtype=int8)"
                    },
                    "metadata": {}
                }
            ]
        },
        {
            "metadata": {},
            "cell_type": "code",
            "source": "#define Y\ny=np.asarray(rain_data_balanced[['SEVERITYCODE']])\ny[0:5]",
            "execution_count": 48,
            "outputs": [
                {
                    "output_type": "execute_result",
                    "execution_count": 48,
                    "data": {
                        "text/plain": "array([[1],\n       [1],\n       [1],\n       [1],\n       [1]])"
                    },
                    "metadata": {}
                }
            ]
        },
        {
            "metadata": {},
            "cell_type": "code",
            "source": "#Standardising the data set using scikit-learn\nfrom sklearn import preprocessing\nX = preprocessing.StandardScaler().fit(X).transform(X)\nX[0:5]",
            "execution_count": 49,
            "outputs": [
                {
                    "output_type": "execute_result",
                    "execution_count": 49,
                    "data": {
                        "text/plain": "array([[ 0.15600865, -1.08480647],\n       [ 0.15600865,  0.75780923],\n       [ 0.15600865,  0.75780923],\n       [ 0.15600865,  1.37201447],\n       [ 0.15600865,  0.75780923]])"
                    },
                    "metadata": {}
                }
            ]
        },
        {
            "metadata": {},
            "cell_type": "code",
            "source": "#Split data into train and test set\nfrom sklearn.model_selection import train_test_split\nX_train, X_test, y_train, y_test = train_test_split(X, y, test_size=0.2, random_state=2)\nprint ('Train set:', X_train.shape,  y_train.shape)\nprint ('Test set:', X_test.shape,  y_test.shape)",
            "execution_count": 50,
            "outputs": [
                {
                    "output_type": "stream",
                    "text": "Train set: (17881, 2) (17881, 1)\nTest set: (4471, 2) (4471, 1)\n",
                    "name": "stdout"
                }
            ]
        },
        {
            "metadata": {},
            "cell_type": "markdown",
            "source": "### KNN"
        },
        {
            "metadata": {},
            "cell_type": "code",
            "source": "#K Nearest neighbour modelling\nfrom sklearn.neighbors import KNeighborsClassifier\nk=15\n#Steps to train the model and predict  \nneigh = KNeighborsClassifier(n_neighbors=k).fit(X_train,y_train)\nyhatKn = neigh.predict(X_test)\nyhatKn[0:5]",
            "execution_count": 51,
            "outputs": [
                {
                    "output_type": "execute_result",
                    "execution_count": 51,
                    "data": {
                        "text/plain": "array([2, 2, 2, 2, 2])"
                    },
                    "metadata": {}
                }
            ]
        },
        {
            "metadata": {
                "scrolled": true
            },
            "cell_type": "code",
            "source": "from sklearn import metrics\nprint('Train set accuracy', metrics.accuracy_score(y_train, neigh.predict(X_train)))\nprint('Test set accuracy', metrics.accuracy_score(y_test, yhatKn))",
            "execution_count": 52,
            "outputs": [
                {
                    "output_type": "stream",
                    "text": "Train set accuracy 0.5076897265253622\nTest set accuracy 0.5155446208901812\n",
                    "name": "stdout"
                }
            ]
        },
        {
            "metadata": {},
            "cell_type": "code",
            "source": "#Get the best K\nKs = 30\nmean_acc = np.zeros((Ks-1))\nstd_acc = np.zeros((Ks-1))\nConfustionMx = [];\nfor n in range(1,Ks):\n    #Train Model and Predict\n    neigh = KNeighborsClassifier(n_neighbors = n).fit(X_train,y_train)\n    yhatKn=neigh.predict(X_test)\n    mean_acc[n-1] = metrics.accuracy_score(y_test, yhatKn)\n    std_acc[n-1]=np.std(yhatKn==y_test)/np.sqrt(yhatKn.shape[0])\nmean_acc",
            "execution_count": 53,
            "outputs": [
                {
                    "output_type": "execute_result",
                    "execution_count": 53,
                    "data": {
                        "text/plain": "array([0.48848132, 0.48937598, 0.48870499, 0.48892865, 0.48691568,\n       0.48825766, 0.48736301, 0.48959964, 0.48781033, 0.48691568,\n       0.48669202, 0.48646835, 0.48781033, 0.48848132, 0.51554462,\n       0.49138895, 0.49228361, 0.48713934, 0.49004697, 0.48937598,\n       0.48713934, 0.48937598, 0.48736301, 0.48915231, 0.48937598,\n       0.49183628, 0.48959964, 0.48959964, 0.48959964])"
                    },
                    "metadata": {}
                }
            ]
        },
        {
            "metadata": {},
            "cell_type": "code",
            "source": "#plotting the graph\nimport matplotlib.pyplot as plt\nplt.plot(range(1,Ks), mean_acc, 'g')\nplt.fill_between(range(1,Ks),mean_acc - 1 * std_acc,mean_acc + 1 * std_acc, alpha=0.10)\nplt.legend(('Accuracy ', '+/- 3xstd'))\nplt.ylabel('Accuracy ')\nplt.xlabel('Number of Neighbors (K)')\nplt.tight_layout()\nplt.show()\nprint( \"The best accuracy was with\", mean_acc.max(), \"with k=\", mean_acc.argmax()+1) ",
            "execution_count": 54,
            "outputs": [
                {
                    "output_type": "display_data",
                    "data": {
                        "text/plain": "<Figure size 432x288 with 1 Axes>",
                        "image/png": "[encoded data removed]"
                    },
                    "metadata": {
                        "needs_background": "light"
                    }
                },
                {
                    "output_type": "stream",
                    "text": "The best accuracy was with 0.5155446208901812 with k= 15\n",
                    "name": "stdout"
                }
            ]
        },
        {
            "metadata": {},
            "cell_type": "code",
            "source": "from sklearn.metrics import f1_score\nfrom sklearn.metrics import jaccard_similarity_score\nknn_f1 = f1_score(y_test, yhatKn, average='weighted')\nknn_jaccard = jaccard_similarity_score(y_test, yhatKn)\nprint('KNN F1 score is ' + str(knn_f1))\nprint('KNN jaccard similarity score is ' + str(knn_jaccard))\nprint( \"The best accuracy was with\", mean_acc.max(), \"with k=\", mean_acc.argmax()+1) ",
            "execution_count": 55,
            "outputs": [
                {
                    "output_type": "stream",
                    "text": "KNN F1 score is 0.4863389808653002\nKNN jaccard similarity score is 0.4895996421382241\nThe best accuracy was with 0.5155446208901812 with k= 15\n",
                    "name": "stdout"
                }
            ]
        },
        {
            "metadata": {},
            "cell_type": "markdown",
            "source": "### Decision tress"
        },
        {
            "metadata": {},
            "cell_type": "code",
            "source": "from sklearn.tree import DecisionTreeClassifier\nfrom sklearn.model_selection import train_test_split\nfrom sklearn import metrics\nimport matplotlib.pyplot as plt",
            "execution_count": 58,
            "outputs": []
        },
        {
            "metadata": {},
            "cell_type": "code",
            "source": "depth = 12\ndTree = DecisionTreeClassifier(criterion=\"entropy\", max_depth=depth)\ndTree.fit(X_train,y_train)\nyhatD = dTree.predict(X_test)\nprint(yhatD[0:5])\nprint(\"Accuracy:\",metrics.accuracy_score(y_test, yhatD))",
            "execution_count": 59,
            "outputs": [
                {
                    "output_type": "stream",
                    "text": "[1 1 2 1 1]\nAccuracy: 0.5157682845001118\n",
                    "name": "stdout"
                }
            ]
        },
        {
            "metadata": {},
            "cell_type": "code",
            "source": "dtree_f1 = f1_score(y_test, yhatD)\ndtree_jaccard = jaccard_similarity_score(y_test, yhatD)\nprint('F1 score is ' + str(dtree_f1))\nprint('jaccard similarity score is ' + str(dtree_jaccard))\nprint('Most accurate max depth',depth)",
            "execution_count": 60,
            "outputs": [
                {
                    "output_type": "stream",
                    "text": "F1 score is 0.48341684562157006\njaccard similarity score is 0.5157682845001118\nMost accurate max depth 12\n",
                    "name": "stdout"
                }
            ]
        },
        {
            "metadata": {},
            "cell_type": "markdown",
            "source": "### Linear regression model"
        },
        {
            "metadata": {},
            "cell_type": "code",
            "source": "from sklearn.linear_model import LogisticRegression\nfrom sklearn.metrics import confusion_matrix\nfrom sklearn.metrics import log_loss\nfrom sklearn import datasets, linear_model, metrics \nLR = LogisticRegression(C=7, solver='liblinear').fit(X_train,y_train)\nLR",
            "execution_count": 61,
            "outputs": [
                {
                    "output_type": "execute_result",
                    "execution_count": 61,
                    "data": {
                        "text/plain": "LogisticRegression(C=7, class_weight=None, dual=False, fit_intercept=True,\n          intercept_scaling=1, max_iter=100, multi_class='warn',\n          n_jobs=None, penalty='l2', random_state=None, solver='liblinear',\n          tol=0.0001, verbose=0, warm_start=False)"
                    },
                    "metadata": {}
                }
            ]
        },
        {
            "metadata": {},
            "cell_type": "code",
            "source": "# Train Model & Predict\nLRyhat = LR.predict(X_test)\nyhat_prob = LR.predict_proba(X_test)\n# Linear Regression Jaccard Similarity Score\nlinreg_f1 = f1_score(y_test,LRyhat)\nlinreg_jaccard = jaccard_similarity_score(y_test, LRyhat)\nlogloss = log_loss(y_test, yhat_prob)\nprint('F1 score of Linear regression model', linreg_f1)\nprint('Jaccard similarity score ofl Linear regression model', linreg_jaccard)\nprint('Log loss of Linear Regression model', logloss)",
            "execution_count": 62,
            "outputs": [
                {
                    "output_type": "stream",
                    "text": "F1 score of Linear regression model 0.480209823557463\nJaccard similarity score ofl Linear regression model 0.5124133303511519\nLog loss of Linear Regression model 0.6931303623342485\n",
                    "name": "stdout"
                }
            ]
        },
        {
            "metadata": {},
            "cell_type": "markdown",
            "source": "### Model Evaluation using Test set"
        },
        {
            "metadata": {},
            "cell_type": "code",
            "source": "from sklearn.metrics import jaccard_similarity_score\nfrom sklearn.metrics import f1_score",
            "execution_count": 63,
            "outputs": []
        },
        {
            "metadata": {},
            "cell_type": "code",
            "source": "# KNN Jaccard Similarity Score and F1 score\nprint('K nearest neighbor Jaccard Similarity Score', knn_jaccard)\nprint('K nearest neighbor F1 Score', knn_f1)",
            "execution_count": 64,
            "outputs": [
                {
                    "output_type": "stream",
                    "text": "K nearest neighbor Jaccard Similarity Score 0.4895996421382241\nK nearest neighbor F1 Score 0.4863389808653002\n",
                    "name": "stdout"
                }
            ]
        },
        {
            "metadata": {},
            "cell_type": "code",
            "source": "# Decision tree Jaccard Similarity Score\nprint('Decision tree Jaccard Similarity Score', dtree_jaccard)\n# Decision tree F1 Score\nprint('Decision tree F1 Score', dtree_f1)",
            "execution_count": 65,
            "outputs": [
                {
                    "output_type": "stream",
                    "text": "Decision tree Jaccard Similarity Score 0.5157682845001118\nDecision tree F1 Score 0.48341684562157006\n",
                    "name": "stdout"
                }
            ]
        },
        {
            "metadata": {},
            "cell_type": "code",
            "source": "# Linear Regression Jaccard Similarity Score\nprint('Linear Regression Jaccard Similarity Score', linreg_jaccard)\n# Linear Regression F1 Score\nprint('Linear Regression F1 Score', linreg_f1)\n#log loss\nprint('Log loss', logloss)",
            "execution_count": 66,
            "outputs": [
                {
                    "output_type": "stream",
                    "text": "Linear Regression Jaccard Similarity Score 0.5124133303511519\nLinear Regression F1 Score 0.480209823557463\nLog loss 0.6931303623342485\n",
                    "name": "stdout"
                }
            ]
        },
        {
            "metadata": {},
            "cell_type": "markdown",
            "source": "### Report"
        },
        {
            "metadata": {},
            "cell_type": "code",
            "source": "f1_scores = [knn_f1, dtree_f1, linreg_f1]\njaccard_scores = [knn_jaccard,dtree_jaccard,linreg_jaccard]\nalgorithms = ['KNN', 'Decision Tree', 'Linear Regression']\ntable_data = {'Algorithms': algorithms, 'F1 scores': f1_scores, 'Jaccard Scores': jaccard_scores, 'Log loss': ['NA','NA',logloss]}\ntable_df = pd.DataFrame(table_data)\ntable_df",
            "execution_count": 67,
            "outputs": [
                {
                    "output_type": "execute_result",
                    "execution_count": 67,
                    "data": {
                        "text/plain": "          Algorithms  F1 scores  Jaccard Scores Log loss\n0                KNN   0.486339        0.489600       NA\n1      Decision Tree   0.483417        0.515768       NA\n2  Linear Regression   0.480210        0.512413  0.69313",
                        "text/html": "<div>\n<style scoped>\n    .dataframe tbody tr th:only-of-type {\n        vertical-align: middle;\n    }\n\n    .dataframe tbody tr th {\n        vertical-align: top;\n    }\n\n    .dataframe thead th {\n        text-align: right;\n    }\n</style>\n<table border=\"1\" class=\"dataframe\">\n  <thead>\n    <tr style=\"text-align: right;\">\n      <th></th>\n      <th>Algorithms</th>\n      <th>F1 scores</th>\n      <th>Jaccard Scores</th>\n      <th>Log loss</th>\n    </tr>\n  </thead>\n  <tbody>\n    <tr>\n      <th>0</th>\n      <td>KNN</td>\n      <td>0.486339</td>\n      <td>0.489600</td>\n      <td>NA</td>\n    </tr>\n    <tr>\n      <th>1</th>\n      <td>Decision Tree</td>\n      <td>0.483417</td>\n      <td>0.515768</td>\n      <td>NA</td>\n    </tr>\n    <tr>\n      <th>2</th>\n      <td>Linear Regression</td>\n      <td>0.480210</td>\n      <td>0.512413</td>\n      <td>0.69313</td>\n    </tr>\n  </tbody>\n</table>\n</div>"
                    },
                    "metadata": {}
                }
            ]
        }
    ],
    "metadata": {
        "kernelspec": {
            "name": "python3",
            "display_name": "Python 3.6",
            "language": "python"
        },
        "language_info": {
            "name": "python",
            "version": "3.6.9",
            "mimetype": "text/x-python",
            "codemirror_mode": {
                "name": "ipython",
                "version": 3
            },
            "pygments_lexer": "ipython3",
            "nbconvert_exporter": "python",
            "file_extension": ".py"
        }
    },
    "nbformat": 4,
    "nbformat_minor": 1
}